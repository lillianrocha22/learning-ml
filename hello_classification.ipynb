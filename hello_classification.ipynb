{
  "nbformat": 4,
  "nbformat_minor": 0,
  "metadata": {
    "colab": {
      "name": "hello-classification.ipynb",
      "provenance": [],
      "authorship_tag": "ABX9TyMN0WSnbj2/XwMSR2EHF24a",
      "include_colab_link": true
    },
    "kernelspec": {
      "name": "python3",
      "display_name": "Python 3"
    },
    "language_info": {
      "name": "python"
    }
  },
  "cells": [
    {
      "cell_type": "markdown",
      "metadata": {
        "id": "view-in-github",
        "colab_type": "text"
      },
      "source": [
        "<a href=\"https://colab.research.google.com/github/lillianrocha22/learning-ml/blob/main/hello_classification.ipynb\" target=\"_parent\"><img src=\"https://colab.research.google.com/assets/colab-badge.svg\" alt=\"Open In Colab\"/></a>"
      ]
    },
    {
      "cell_type": "markdown",
      "source": [
        "Iniciação das bibliotecas"
      ],
      "metadata": {
        "id": "gPMH4z9YVmYv"
      }
    },
    {
      "cell_type": "code",
      "execution_count": null,
      "metadata": {
        "id": "znCJbyoLIeT6"
      },
      "outputs": [],
      "source": [
        "# inicialização das bibliotecas\n",
        "%matplotlib inline\n",
        "\n",
        "import pandas as pd\n",
        "import matplotlib.pyplot as plt\n",
        "\n",
        "# caminho do arquivo\n",
        "url = \"https://archive.ics.uci.edu/ml/machine-learning-databases/iris/iris.data\"\n",
        "\n",
        "# definir o nome das colunas\n",
        "header = ['sepal_length', 'sepal_width', 'petal_length', 'petal_width', 'species']\n",
        "\n",
        "# ler e carregar o arquivo para a memória\n",
        "df = pd.read_csv(url, header=None, names=header)"
      ]
    },
    {
      "cell_type": "markdown",
      "source": [
        "Conhecendo os dados do dataset"
      ],
      "metadata": {
        "id": "6496ZkQhV44F"
      }
    },
    {
      "cell_type": "code",
      "source": [
        "# retornar um trecho com as 5 primeiras linhas do dataframe\n",
        "df.head()"
      ],
      "metadata": {
        "colab": {
          "base_uri": "https://localhost:8080/",
          "height": 206
        },
        "id": "jhjUHwYKWA5t",
        "outputId": "cc38dfb5-dd18-4275-c7d6-f1e9efac3c38"
      },
      "execution_count": null,
      "outputs": [
        {
          "output_type": "execute_result",
          "data": {
            "text/plain": [
              "   sepal_length  sepal_width  petal_length  petal_width      species\n",
              "0           5.1          3.5           1.4          0.2  Iris-setosa\n",
              "1           4.9          3.0           1.4          0.2  Iris-setosa\n",
              "2           4.7          3.2           1.3          0.2  Iris-setosa\n",
              "3           4.6          3.1           1.5          0.2  Iris-setosa\n",
              "4           5.0          3.6           1.4          0.2  Iris-setosa"
            ],
            "text/html": [
              "\n",
              "  <div id=\"df-1859601e-c1e1-4e2e-99c5-91b8007f1582\">\n",
              "    <div class=\"colab-df-container\">\n",
              "      <div>\n",
              "<style scoped>\n",
              "    .dataframe tbody tr th:only-of-type {\n",
              "        vertical-align: middle;\n",
              "    }\n",
              "\n",
              "    .dataframe tbody tr th {\n",
              "        vertical-align: top;\n",
              "    }\n",
              "\n",
              "    .dataframe thead th {\n",
              "        text-align: right;\n",
              "    }\n",
              "</style>\n",
              "<table border=\"1\" class=\"dataframe\">\n",
              "  <thead>\n",
              "    <tr style=\"text-align: right;\">\n",
              "      <th></th>\n",
              "      <th>sepal_length</th>\n",
              "      <th>sepal_width</th>\n",
              "      <th>petal_length</th>\n",
              "      <th>petal_width</th>\n",
              "      <th>species</th>\n",
              "    </tr>\n",
              "  </thead>\n",
              "  <tbody>\n",
              "    <tr>\n",
              "      <th>0</th>\n",
              "      <td>5.1</td>\n",
              "      <td>3.5</td>\n",
              "      <td>1.4</td>\n",
              "      <td>0.2</td>\n",
              "      <td>Iris-setosa</td>\n",
              "    </tr>\n",
              "    <tr>\n",
              "      <th>1</th>\n",
              "      <td>4.9</td>\n",
              "      <td>3.0</td>\n",
              "      <td>1.4</td>\n",
              "      <td>0.2</td>\n",
              "      <td>Iris-setosa</td>\n",
              "    </tr>\n",
              "    <tr>\n",
              "      <th>2</th>\n",
              "      <td>4.7</td>\n",
              "      <td>3.2</td>\n",
              "      <td>1.3</td>\n",
              "      <td>0.2</td>\n",
              "      <td>Iris-setosa</td>\n",
              "    </tr>\n",
              "    <tr>\n",
              "      <th>3</th>\n",
              "      <td>4.6</td>\n",
              "      <td>3.1</td>\n",
              "      <td>1.5</td>\n",
              "      <td>0.2</td>\n",
              "      <td>Iris-setosa</td>\n",
              "    </tr>\n",
              "    <tr>\n",
              "      <th>4</th>\n",
              "      <td>5.0</td>\n",
              "      <td>3.6</td>\n",
              "      <td>1.4</td>\n",
              "      <td>0.2</td>\n",
              "      <td>Iris-setosa</td>\n",
              "    </tr>\n",
              "  </tbody>\n",
              "</table>\n",
              "</div>\n",
              "      <button class=\"colab-df-convert\" onclick=\"convertToInteractive('df-1859601e-c1e1-4e2e-99c5-91b8007f1582')\"\n",
              "              title=\"Convert this dataframe to an interactive table.\"\n",
              "              style=\"display:none;\">\n",
              "        \n",
              "  <svg xmlns=\"http://www.w3.org/2000/svg\" height=\"24px\"viewBox=\"0 0 24 24\"\n",
              "       width=\"24px\">\n",
              "    <path d=\"M0 0h24v24H0V0z\" fill=\"none\"/>\n",
              "    <path d=\"M18.56 5.44l.94 2.06.94-2.06 2.06-.94-2.06-.94-.94-2.06-.94 2.06-2.06.94zm-11 1L8.5 8.5l.94-2.06 2.06-.94-2.06-.94L8.5 2.5l-.94 2.06-2.06.94zm10 10l.94 2.06.94-2.06 2.06-.94-2.06-.94-.94-2.06-.94 2.06-2.06.94z\"/><path d=\"M17.41 7.96l-1.37-1.37c-.4-.4-.92-.59-1.43-.59-.52 0-1.04.2-1.43.59L10.3 9.45l-7.72 7.72c-.78.78-.78 2.05 0 2.83L4 21.41c.39.39.9.59 1.41.59.51 0 1.02-.2 1.41-.59l7.78-7.78 2.81-2.81c.8-.78.8-2.07 0-2.86zM5.41 20L4 18.59l7.72-7.72 1.47 1.35L5.41 20z\"/>\n",
              "  </svg>\n",
              "      </button>\n",
              "      \n",
              "  <style>\n",
              "    .colab-df-container {\n",
              "      display:flex;\n",
              "      flex-wrap:wrap;\n",
              "      gap: 12px;\n",
              "    }\n",
              "\n",
              "    .colab-df-convert {\n",
              "      background-color: #E8F0FE;\n",
              "      border: none;\n",
              "      border-radius: 50%;\n",
              "      cursor: pointer;\n",
              "      display: none;\n",
              "      fill: #1967D2;\n",
              "      height: 32px;\n",
              "      padding: 0 0 0 0;\n",
              "      width: 32px;\n",
              "    }\n",
              "\n",
              "    .colab-df-convert:hover {\n",
              "      background-color: #E2EBFA;\n",
              "      box-shadow: 0px 1px 2px rgba(60, 64, 67, 0.3), 0px 1px 3px 1px rgba(60, 64, 67, 0.15);\n",
              "      fill: #174EA6;\n",
              "    }\n",
              "\n",
              "    [theme=dark] .colab-df-convert {\n",
              "      background-color: #3B4455;\n",
              "      fill: #D2E3FC;\n",
              "    }\n",
              "\n",
              "    [theme=dark] .colab-df-convert:hover {\n",
              "      background-color: #434B5C;\n",
              "      box-shadow: 0px 1px 3px 1px rgba(0, 0, 0, 0.15);\n",
              "      filter: drop-shadow(0px 1px 2px rgba(0, 0, 0, 0.3));\n",
              "      fill: #FFFFFF;\n",
              "    }\n",
              "  </style>\n",
              "\n",
              "      <script>\n",
              "        const buttonEl =\n",
              "          document.querySelector('#df-1859601e-c1e1-4e2e-99c5-91b8007f1582 button.colab-df-convert');\n",
              "        buttonEl.style.display =\n",
              "          google.colab.kernel.accessAllowed ? 'block' : 'none';\n",
              "\n",
              "        async function convertToInteractive(key) {\n",
              "          const element = document.querySelector('#df-1859601e-c1e1-4e2e-99c5-91b8007f1582');\n",
              "          const dataTable =\n",
              "            await google.colab.kernel.invokeFunction('convertToInteractive',\n",
              "                                                     [key], {});\n",
              "          if (!dataTable) return;\n",
              "\n",
              "          const docLinkHtml = 'Like what you see? Visit the ' +\n",
              "            '<a target=\"_blank\" href=https://colab.research.google.com/notebooks/data_table.ipynb>data table notebook</a>'\n",
              "            + ' to learn more about interactive tables.';\n",
              "          element.innerHTML = '';\n",
              "          dataTable['output_type'] = 'display_data';\n",
              "          await google.colab.output.renderOutput(dataTable, element);\n",
              "          const docLink = document.createElement('div');\n",
              "          docLink.innerHTML = docLinkHtml;\n",
              "          element.appendChild(docLink);\n",
              "        }\n",
              "      </script>\n",
              "    </div>\n",
              "  </div>\n",
              "  "
            ]
          },
          "metadata": {},
          "execution_count": 11
        }
      ]
    },
    {
      "cell_type": "markdown",
      "source": [
        "Atributos do dataset e atributo-alvo"
      ],
      "metadata": {
        "id": "1NeI1H8IWTFE"
      }
    },
    {
      "cell_type": "code",
      "source": [
        "# mostra informações sobre o dataframe em si\n",
        "df.info()\n",
        "\n",
        "# class distribution\n",
        "print(df.groupby('species').size())"
      ],
      "metadata": {
        "colab": {
          "base_uri": "https://localhost:8080/"
        },
        "id": "xmSSp1DKWcAT",
        "outputId": "49fd51e6-8764-4f50-f6cf-fc7c361eea86"
      },
      "execution_count": null,
      "outputs": [
        {
          "output_type": "stream",
          "name": "stdout",
          "text": [
            "<class 'pandas.core.frame.DataFrame'>\n",
            "RangeIndex: 150 entries, 0 to 149\n",
            "Data columns (total 5 columns):\n",
            " #   Column        Non-Null Count  Dtype  \n",
            "---  ------        --------------  -----  \n",
            " 0   sepal_length  150 non-null    float64\n",
            " 1   sepal_width   150 non-null    float64\n",
            " 2   petal_length  150 non-null    float64\n",
            " 3   petal_width   150 non-null    float64\n",
            " 4   species       150 non-null    object \n",
            "dtypes: float64(4), object(1)\n",
            "memory usage: 6.0+ KB\n",
            "species\n",
            "Iris-setosa        50\n",
            "Iris-versicolor    50\n",
            "Iris-virginica     50\n",
            "dtype: int64\n"
          ]
        }
      ]
    },
    {
      "cell_type": "markdown",
      "source": [
        "Problema: Queremos desenvolver um modelo de ML supervisionado capaz de classificar a espécie de IRIS (setosa, versicolor e virginica) com base em algumas das informações imputadas de largura e comprimento (sépala e/ou pétala)"
      ],
      "metadata": {
        "id": "fncvjdzuX-9D"
      }
    },
    {
      "cell_type": "markdown",
      "source": [
        "Análise exploratória de dados para buscar insights sobre a representatividade de cada atributo"
      ],
      "metadata": {
        "id": "HCmeYdyVYlT0"
      }
    },
    {
      "cell_type": "code",
      "source": [
        "# selecionando um sub-dataframe com os campos petal_length e petal_width, \n",
        "# e outro com a variável de classes\n",
        "entradas = df[['petal_length', 'petal_width']] # atributos\n",
        "classes = df['species'] #target\n",
        "\n",
        "# separamos 20% para teste\n",
        "from sklearn.model_selection import train_test_split\n",
        "\n",
        "entradas_treino, entradas_teste, classes_treino, classes_teste = train_test_split(entradas, classes, test_size=0.2)\n",
        "\n",
        "print(f\"Formato das tabelas de dados de treino {entradas_treino.shape} e teste {entradas_teste.shape}\")"
      ],
      "metadata": {
        "colab": {
          "base_uri": "https://localhost:8080/"
        },
        "id": "oiiLY_pzZXk7",
        "outputId": "e6ae6717-6108-4fec-b070-7b83eecd0b72"
      },
      "execution_count": null,
      "outputs": [
        {
          "output_type": "stream",
          "name": "stdout",
          "text": [
            "Formato das tabelas de dados de treino (120, 2) e teste (30, 2)\n"
          ]
        }
      ]
    },
    {
      "cell_type": "markdown",
      "source": [
        "KNN"
      ],
      "metadata": {
        "id": "XGxQYUUSZg3W"
      }
    },
    {
      "cell_type": "code",
      "source": [
        "# importa a biblioteca\n",
        "from sklearn.neighbors import KNeighborsClassifier\n",
        "\n",
        "# cria o classificar KNN\n",
        "k = 9\n",
        "modelo = KNeighborsClassifier(n_neighbors=k)\n",
        "\n",
        "# cria o modelo de machine learning\n",
        "modelo.fit(entradas_treino, classes_treino)"
      ],
      "metadata": {
        "colab": {
          "base_uri": "https://localhost:8080/"
        },
        "id": "ixrA0gbwZWV3",
        "outputId": "29fd2c94-dccc-42d7-8557-55f10a3d09e6"
      },
      "execution_count": 21,
      "outputs": [
        {
          "output_type": "execute_result",
          "data": {
            "text/plain": [
              "KNeighborsClassifier(n_neighbors=9)"
            ]
          },
          "metadata": {},
          "execution_count": 21
        }
      ]
    },
    {
      "cell_type": "markdown",
      "source": [
        "Árvore de decisão e SVM"
      ],
      "metadata": {
        "id": "BQBkVzVJadjJ"
      }
    },
    {
      "cell_type": "code",
      "source": [
        "# importa as bibliotecas\n",
        "from sklearn.tree import DecisionTreeClassifier # Árvore de decisão\n",
        "from sklearn.svm import SVC # SVM (Support Vector Machine)\n",
        "\n",
        "# cria o classificador árvore de decisão\n",
        "modelo = DecisionTreeClassifier(max_depth=2, random_state=42)\n",
        "# cria o classificador SVM\n",
        "modelo2 = SVC()\n",
        "\n",
        "# cria o modelo de machine learning\n",
        "modelo.fit(entradas_treino, classes_treino)\n",
        "modelo2.fit(entradas_treino, classes_treino)"
      ],
      "metadata": {
        "id": "Li-QGOUdbGVq",
        "colab": {
          "base_uri": "https://localhost:8080/"
        },
        "outputId": "ce8ec4e8-8ba5-49c1-e3fe-7f2fb3427e4f"
      },
      "execution_count": null,
      "outputs": [
        {
          "output_type": "execute_result",
          "data": {
            "text/plain": [
              "SVC()"
            ]
          },
          "metadata": {},
          "execution_count": 15
        }
      ]
    },
    {
      "cell_type": "markdown",
      "source": [
        "Verificação da taxa de acerto do modelo (consertar)"
      ],
      "metadata": {
        "id": "4IP2m9-YeDNj"
      }
    },
    {
      "cell_type": "code",
      "source": [
        "# para determinar a quantidade de acertos (acurácia)\n",
        "\n",
        "from sklearn.metrics import accuracy_score\n",
        "\n",
        "#acertos = accuracy_score(classes_teste, classes_encontradas)\n",
        "\n",
        "print(\"Acerto médio de classificação: \") #, acertos)"
      ],
      "metadata": {
        "colab": {
          "base_uri": "https://localhost:8080/"
        },
        "id": "PWhmLJffeKKC",
        "outputId": "62bc1663-cc77-45d5-ce88-022e49145ff0"
      },
      "execution_count": 22,
      "outputs": [
        {
          "output_type": "stream",
          "name": "stdout",
          "text": [
            "Acerto médio de classificação: \n"
          ]
        }
      ]
    }
  ]
}